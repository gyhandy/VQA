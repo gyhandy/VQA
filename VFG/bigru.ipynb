{
 "cells": [
  {
   "cell_type": "code",
   "execution_count": 6,
   "metadata": {},
   "outputs": [],
   "source": [
    "import torch\n",
    "import numpy as np\n",
    "from torch.nn import GRU\n",
    "from torch_geometric.data import Data"
   ]
  },
  {
   "cell_type": "code",
   "execution_count": 7,
   "metadata": {},
   "outputs": [],
   "source": [
    "class TFG:\n",
    "    def __init__(self, data):\n",
    "        self.data = data\n",
    "        size = self.data.x.shape[1]\n",
    "        self.word_bigru = GRU(size, size, bidirectional=True)\n",
    "        self.relationship_bigru = GRU(size, size, bidirectional=True)\n",
    "        \n",
    "    def train(self):\n",
    "        middle_node = dict()\n",
    "        relationship_map = dict()\n",
    "        \n",
    "        # assume retrieve relationship data\n",
    "        edge_index = self.data.edge_index.numpy()\n",
    "        for i, node_type in enumerate(self.data.y.numpy()):\n",
    "            if node_type == 1:\n",
    "                if i in middle_node:\n",
    "                    relationship_map[middle_node[i]] = edge_index[i][1]\n",
    "                else:\n",
    "                    middle_node[edge_index[i][1]] = i\n",
    "        \n",
    "        # convert relationship data to be Tensor\n",
    "        edge_attr = self.data.edge_attr.numpy()\n",
    "        relationship_vector = []\n",
    "        for key, value in relationship_map.items():\n",
    "            relationship_vector.append([edge_attr[key], edge_attr[value]])\n",
    "            \n",
    "        relationships = torch.Tensor(relationship_vector)\n",
    "        \n",
    "        # run two kinds of bigru\n",
    "        out1, hidden1 = words_bigru(self.data.x)\n",
    "        out2, hidden2 = relationship_bigru(relationships)\n",
    "        \n",
    "        data = Data(x=hidden1, y=self.data.y, edge_index=self.data.edge_index, edge_attr=hidden2)\n",
    "        return data"
   ]
  },
  {
   "cell_type": "code",
   "execution_count": null,
   "metadata": {},
   "outputs": [],
   "source": []
  }
 ],
 "metadata": {
  "kernelspec": {
   "display_name": "Python 3",
   "language": "python",
   "name": "python3"
  },
  "language_info": {
   "codemirror_mode": {
    "name": "ipython",
    "version": 3
   },
   "file_extension": ".py",
   "mimetype": "text/x-python",
   "name": "python",
   "nbconvert_exporter": "python",
   "pygments_lexer": "ipython3",
   "version": "3.8.5"
  }
 },
 "nbformat": 4,
 "nbformat_minor": 4
}
