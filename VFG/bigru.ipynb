{
 "cells": [
  {
   "cell_type": "code",
   "execution_count": 1,
   "metadata": {},
   "outputs": [],
   "source": [
    "import torch\n",
    "import numpy as np\n",
    "from collections import defaultdict\n",
    "from tt import get_geometric_data\n",
    "from torch.nn import GRU\n",
    "from torch_geometric.data import Data"
   ]
  },
  {
   "cell_type": "code",
   "execution_count": 2,
   "metadata": {},
   "outputs": [],
   "source": [
    "HIDDEN_SIZE = 256"
   ]
  },
  {
   "cell_type": "code",
   "execution_count": 3,
   "metadata": {},
   "outputs": [],
   "source": [
    "class TFG:\n",
    "    def __init__(self, data):\n",
    "        self.data = data\n",
    "        self.feature_size = self.data.x.shape[1]\n",
    "        self.word_bigru = GRU(self.feature_size, HIDDEN_SIZE, bidirectional=True)\n",
    "        self.relationship_bigru = GRU(self.feature_size, HIDDEN_SIZE, bidirectional=True)\n",
    "        \n",
    "    def train(self):\n",
    "        sv_map = defaultdict(list)\n",
    "        vo_map = defaultdict(list)\n",
    "        \n",
    "        # assume retrieve relationship data\n",
    "        edge_index = self.data.edge_index.numpy()\n",
    "        node_attr = self.data.y.numpy()\n",
    "        new_edge_index = []\n",
    "        for i, edge_type in enumerate(self.data.edge_attr.numpy()):\n",
    "            if edge_type == 1:\n",
    "                if node_attr[edge_index[i][0]] == 1:\n",
    "                    vo_map[edge_index[i][0]].append(edge_index[i][1])\n",
    "                else:\n",
    "                    sv_map[edge_index[i][1]].append(edge_index[i][0])\n",
    "            else:\n",
    "                new_edge_index.append(edge_index[i])\n",
    "        \n",
    "        \n",
    "        print(vo_map)\n",
    "        # convert relationship data to be Tensor\n",
    "        relationship_vector = []\n",
    "        x = self.data.x.numpy()\n",
    "        for key, subjects in sv_map.items():\n",
    "            for subj in subjects:\n",
    "                if not vo_map[key]:\n",
    "                    relationship_vector.append([x[subj], x[key], np.zeros(self.feature_size)])\n",
    "                    new_edge_index.append([subj, key])\n",
    "                for obj in vo_map[key]:\n",
    "                    relationship_vector.append([x[subj], x[key], x[obj]])\n",
    "                    new_edge_index.append([subj, obj])\n",
    "                    \n",
    "        for key, objects in vo_map.items():\n",
    "            for obj in objects:\n",
    "                if not sv_map[key]:\n",
    "                    relationship_vector.append([np.zeros(self.feature_size), x[key], x[obj]])\n",
    "                    new_edge_index.append([key, obj])             \n",
    "            \n",
    "        print(new_edge_index)\n",
    "        print(\"relationship:\",relationship_vector)\n",
    "        relationships = torch.Tensor(relationship_vector)\n",
    "        \n",
    "        # run two kinds of bigru\n",
    "        out1, hidden1 = self.word_bigru(self.data.x.unsqueeze(0))\n",
    "        out2, hidden2 = self.relationship_bigru(relationships) if relationships.shape[0] > 0 else (torch.tensor([]), torch.tensor([]))\n",
    "        \n",
    "        word_level_vector = (torch.sum(hidden1, 0) / 2)[1:]\n",
    "        path_level_vector = torch.sum(hidden2, 0) / 2\n",
    "        combined_vector = torch.cat((word_level_vector, path_level_vector), 0)\n",
    "        \n",
    "        data = Data(x=self.data.x, y=self.data.y, edge_index=torch.tensor(new_edge_index), edge_attr=combined_vector)\n",
    "        return data"
   ]
  },
  {
   "cell_type": "code",
   "execution_count": 4,
   "metadata": {},
   "outputs": [
    {
     "name": "stdout",
     "output_type": "stream",
     "text": [
      "Data(edge_attr=[16], edge_index=[16, 2], x=[12, 3], y=[12, 1])\n",
      "defaultdict(<class 'list'>, {2: [3], 5: [7], 8: [11]})\n",
      "[array([0, 1]), array([1, 2]), array([2, 3]), array([3, 4]), array([4, 5]), array([5, 6]), array([6, 7]), array([7, 8]), array([8, 9]), array([ 9, 10]), array([10, 11]), [1, 3], [1, 7], [8, 11]]\n",
      "relationship: [[array([0., 0., 0.], dtype=float32), array([0., 0., 0.], dtype=float32), array([0., 0., 0.], dtype=float32)], [array([0., 0., 0.], dtype=float32), array([0., 0., 0.], dtype=float32), array([0., 0., 0.], dtype=float32)], [array([0., 0., 0.]), array([0., 0., 0.], dtype=float32), array([0., 0., 0.], dtype=float32)]]\n"
     ]
    },
    {
     "data": {
      "text/plain": [
       "Data(edge_attr=[14, 256], edge_index=[14, 2], x=[12, 3], y=[12, 1])"
      ]
     },
     "execution_count": 4,
     "metadata": {},
     "output_type": "execute_result"
    }
   ],
   "source": [
    "data = get_geometric_data()\n",
    "print(data)\n",
    "tfg_model = TFG(data)\n",
    "tfg_model.train()"
   ]
  },
  {
   "cell_type": "code",
   "execution_count": null,
   "metadata": {},
   "outputs": [],
   "source": []
  },
  {
   "cell_type": "code",
   "execution_count": null,
   "metadata": {},
   "outputs": [],
   "source": []
  }
 ],
 "metadata": {
  "kernelspec": {
   "display_name": "Python 3",
   "language": "python",
   "name": "python3"
  },
  "language_info": {
   "codemirror_mode": {
    "name": "ipython",
    "version": 3
   },
   "file_extension": ".py",
   "mimetype": "text/x-python",
   "name": "python",
   "nbconvert_exporter": "python",
   "pygments_lexer": "ipython3",
   "version": "3.8.5"
  }
 },
 "nbformat": 4,
 "nbformat_minor": 4
}
